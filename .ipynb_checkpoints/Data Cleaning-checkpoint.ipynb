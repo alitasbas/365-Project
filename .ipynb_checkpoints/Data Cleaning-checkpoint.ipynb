{
 "cells": [
  {
   "cell_type": "code",
   "execution_count": 361,
   "id": "e54e3a73-3045-446a-b65f-5a4ef2da360d",
   "metadata": {},
   "outputs": [],
   "source": [
    "# Import necessary libraries\n",
    "import numpy as np\n",
    "import pandas as pd\n",
    "import seaborn as sns\n",
    "import matplotlib.pyplot as plt\n",
    "from unidecode import unidecode\n",
    "import math\n",
    "from collections import Counter\n",
    "from nltk.corpus import stopwords\n",
    "import nltk\n",
    "from wordcloud import WordCloud # word cloud"
   ]
  },
  {
   "cell_type": "code",
   "execution_count": 319,
   "id": "9452cac4-0147-40ae-a4fc-3c06beb94671",
   "metadata": {},
   "outputs": [],
   "source": [
    "# save dataset as data\n",
    "data = pd.read_csv(\"[Fillout] METU and Career Expectation Survey results.csv\")"
   ]
  },
  {
   "cell_type": "code",
   "execution_count": 320,
   "id": "70100cb4-8319-48a7-a9aa-2beae0432d07",
   "metadata": {},
   "outputs": [],
   "source": [
    "# Rename column headers\n",
    "data.rename(columns = {\n",
    "    \"Submission ID\": \"submission_id\",\n",
    "    \"Last updated\": \"last_updated\",\n",
    "    \"Submission started\": \"submission_started\",\n",
    "    \"Status\": \"status\",\n",
    "    \"Current step\": \"current_step\",\n",
    "    \"How old are you?\": \"age\",\n",
    "    \"What is your gender?\": \"gender\",\n",
    "    \"What is your department?\": \"department\",\n",
    "    \"What is your current academic grade?\": \"academic_year\",\n",
    "    \"Where do you currently live?\": \"current_residence\",\n",
    "    \"Where do you prefer to study the most?\": \"study_preference\",\n",
    "    \"What is your GPA?\": \"gpa\",\n",
    "    \"On average, how many hours of sleep do you get per night?\": \"sleep_hours\",\n",
    "    \"On average, how many hours per week do you spend on sports or physical activities?(Please enter a number)\": \"sport_hours\",\n",
    "    \"How many cigarettes do you smoke on average per day?(If you don't smoke, please put 0)\": \"cigarettes_per_day\",\n",
    "    \"How many cups of coffee do you drink per day?(Please enter a number)\": \"coffee_cups\",\n",
    "    \"Please rate your department satisfaction\": \"department_satisfaction\",\n",
    "    \"What are the biggest obstacles to your academic and/or professional development?\": \"development_obstacles\",\n",
    "    \"How long do you expect it will take you to find a job after graduation?\": \"job_search_duration\",\n",
    "    \"Do you plan to pursue further education after graduation?\": \"higher_education\",\n",
    "    \"What type of work arrangement do you prefer after graduation?\": \"work_style\",\n",
    "    \"Where do you plan to work after graduation?\": \"country_preference\",\n",
    "    \"Do you plan to work in the public sector or the private sector after graduation?\": \"sector_preference\",\n",
    "    \"Do you plan to work in your department’s field or in a different sector after graduation?\": \"field_preference\",\n",
    "    \"In which city would you like to work after graduation?\": \"city_preference\",\n",
    "    \"What is your expected monthly salary after graduation? (in thousands of Turkish Liras, e.g., 30 for 30.000 TRY)\": \"salary_expectation\",\n",
    "    \"Errors\": \"errors\",\n",
    "    \"Url\": \"url\",\n",
    "    \"Network ID\": \"network_id\"\n",
    "}, inplace = True)"
   ]
  },
  {
   "cell_type": "code",
   "execution_count": 321,
   "id": "2e8cae08-6e7e-4d2a-b654-d3470f918fb6",
   "metadata": {},
   "outputs": [],
   "source": [
    "# drop unnecessary columns\n",
    "df = data.drop(['last_updated', 'submission_started', 'status',\n",
    "           'current_step', 'errors', 'url', 'network_id'], axis=1) "
   ]
  },
  {
   "cell_type": "code",
   "execution_count": 322,
   "id": "d1525120-6428-43c9-9db1-b86ba27ab3b8",
   "metadata": {},
   "outputs": [],
   "source": [
    "# Data is ordered from the last survey to the first. Flip the data\n",
    "df = df.sort_index(ascending=False).reset_index(drop=True).drop(\"submission_id\", axis=1)\n",
    "# Now the data is ordered from the first survey to the last."
   ]
  },
  {
   "cell_type": "code",
   "execution_count": 323,
   "id": "b4e27c27-8757-4fd0-a987-a5674991fc1a",
   "metadata": {},
   "outputs": [
    {
     "data": {
      "text/plain": [
       "Index(['age', 'gender', 'department', 'academic_year', 'current_residence',\n",
       "       'study_preference', 'gpa', 'sleep_hours', 'sport_hours',\n",
       "       'cigarettes_per_day', 'coffee_cups', 'department_satisfaction',\n",
       "       'development_obstacles', 'job_search_duration', 'higher_education',\n",
       "       'work_style', 'country_preference', 'sector_preference',\n",
       "       'field_preference', 'city_preference', 'salary_expectation'],\n",
       "      dtype='object')"
      ]
     },
     "execution_count": 323,
     "metadata": {},
     "output_type": "execute_result"
    }
   ],
   "source": [
    "df.columns"
   ]
  },
  {
   "cell_type": "code",
   "execution_count": 324,
   "id": "e91c2099-f42a-4250-baf6-faaee85843e3",
   "metadata": {},
   "outputs": [
    {
     "name": "stdout",
     "output_type": "stream",
     "text": [
      "<class 'pandas.core.frame.DataFrame'>\n",
      "RangeIndex: 291 entries, 0 to 290\n",
      "Data columns (total 21 columns):\n",
      " #   Column                   Non-Null Count  Dtype  \n",
      "---  ------                   --------------  -----  \n",
      " 0   age                      291 non-null    int64  \n",
      " 1   gender                   291 non-null    object \n",
      " 2   department               291 non-null    object \n",
      " 3   academic_year            291 non-null    object \n",
      " 4   current_residence        291 non-null    object \n",
      " 5   study_preference         291 non-null    object \n",
      " 6   gpa                      291 non-null    object \n",
      " 7   sleep_hours              291 non-null    object \n",
      " 8   sport_hours              285 non-null    float64\n",
      " 9   cigarettes_per_day       288 non-null    float64\n",
      " 10  coffee_cups              284 non-null    float64\n",
      " 11  department_satisfaction  291 non-null    int64  \n",
      " 12  development_obstacles    234 non-null    object \n",
      " 13  job_search_duration      291 non-null    object \n",
      " 14  higher_education         291 non-null    object \n",
      " 15  work_style               290 non-null    object \n",
      " 16  country_preference       291 non-null    object \n",
      " 17  sector_preference        291 non-null    object \n",
      " 18  field_preference         290 non-null    object \n",
      " 19  city_preference          272 non-null    object \n",
      " 20  salary_expectation       277 non-null    float64\n",
      "dtypes: float64(4), int64(2), object(15)\n",
      "memory usage: 47.9+ KB\n"
     ]
    }
   ],
   "source": [
    "# Check the dtypes\n",
    "df.info()"
   ]
  },
  {
   "cell_type": "code",
   "execution_count": 325,
   "id": "f5bf52f8-8890-4b71-ba43-75a14c1936e2",
   "metadata": {
    "scrolled": true
   },
   "outputs": [
    {
     "name": "stdout",
     "output_type": "stream",
     "text": [
      "<class 'pandas.core.frame.DataFrame'>\n",
      "RangeIndex: 291 entries, 0 to 290\n",
      "Data columns (total 21 columns):\n",
      " #   Column                   Non-Null Count  Dtype   \n",
      "---  ------                   --------------  -----   \n",
      " 0   age                      291 non-null    int64   \n",
      " 1   gender                   291 non-null    category\n",
      " 2   department               291 non-null    category\n",
      " 3   academic_year            291 non-null    category\n",
      " 4   current_residence        291 non-null    category\n",
      " 5   study_preference         291 non-null    category\n",
      " 6   gpa                      291 non-null    category\n",
      " 7   sleep_hours              291 non-null    category\n",
      " 8   sport_hours              285 non-null    float64 \n",
      " 9   cigarettes_per_day       288 non-null    float64 \n",
      " 10  coffee_cups              284 non-null    float64 \n",
      " 11  department_satisfaction  291 non-null    int64   \n",
      " 12  development_obstacles    234 non-null    object  \n",
      " 13  job_search_duration      291 non-null    category\n",
      " 14  higher_education         291 non-null    category\n",
      " 15  work_style               290 non-null    category\n",
      " 16  country_preference       291 non-null    category\n",
      " 17  sector_preference        291 non-null    category\n",
      " 18  field_preference         290 non-null    category\n",
      " 19  city_preference          272 non-null    object  \n",
      " 20  salary_expectation       277 non-null    float64 \n",
      "dtypes: category(13), float64(4), int64(2), object(2)\n",
      "memory usage: 24.8+ KB\n"
     ]
    }
   ],
   "source": [
    "# Correct the data types\n",
    "conversion_dic = {\n",
    "    \"gender\": \"category\",\n",
    "    \"department\": \"category\",\n",
    "    \"academic_year\": \"category\",\n",
    "    \"current_residence\": \"category\",\n",
    "    \"study_preference\": \"category\",\n",
    "    \"gpa\": \"category\",\n",
    "    \"sleep_hours\": \"category\",\n",
    "    \"job_search_duration\": \"category\",\n",
    "    \"higher_education\": \"category\",\n",
    "    \"work_style\": \"category\",\n",
    "    \"country_preference\": \"category\",\n",
    "    \"sector_preference\": \"category\",\n",
    "    \"field_preference\": \"category\",\n",
    "}\n",
    "\n",
    "df = df.astype(conversion_dic)\n",
    "df.info()"
   ]
  },
  {
   "cell_type": "code",
   "execution_count": 326,
   "id": "95f6b514-5ba5-4f3d-8a43-4587c938136e",
   "metadata": {},
   "outputs": [
    {
     "data": {
      "text/plain": [
       "{'gender': True,\n",
       " 'department': True,\n",
       " 'academic_year': False,\n",
       " 'current_residence': True,\n",
       " 'study_preference': True,\n",
       " 'gpa': False,\n",
       " 'sleep_hours': True,\n",
       " 'development_obstacles': True,\n",
       " 'job_search_duration': True,\n",
       " 'higher_education': False,\n",
       " 'work_style': False,\n",
       " 'country_preference': True,\n",
       " 'sector_preference': False,\n",
       " 'field_preference': False,\n",
       " 'city_preference': False}"
      ]
     },
     "execution_count": 326,
     "metadata": {},
     "output_type": "execute_result"
    }
   ],
   "source": [
    "anomality_dic = {} \n",
    "for i, col in enumerate(df.select_dtypes([\"category\", \"object\"])):\n",
    "    if df[col].str.contains(\"\\n\").any():\n",
    "        anomality_dic[col] = True\n",
    "    else:\n",
    "        anomality_dic[col] = False\n",
    "\n",
    "anomality_dic"
   ]
  },
  {
   "cell_type": "code",
   "execution_count": 328,
   "id": "9598deea-6d5e-44d6-b813-63a4528ed5d8",
   "metadata": {},
   "outputs": [],
   "source": [
    "for key, value in anomality_dic.items():\n",
    "    if key == \"development_obstacles\":\n",
    "        continue\n",
    "    elif key == \"city_preference\" and value == True:\n",
    "        df[key] = df[key].str.rstrip(\"\\n\")\n",
    "    elif value == True:\n",
    "        df[key] = df[key].str.rstrip(\"\\n\").astype(\"category\")"
   ]
  },
  {
   "cell_type": "code",
   "execution_count": 329,
   "id": "c7f36c31-f66d-4128-bfd0-ca9c1ced9ba2",
   "metadata": {},
   "outputs": [
    {
     "name": "stdout",
     "output_type": "stream",
     "text": [
      "<class 'pandas.core.frame.DataFrame'>\n",
      "RangeIndex: 291 entries, 0 to 290\n",
      "Data columns (total 21 columns):\n",
      " #   Column                   Non-Null Count  Dtype   \n",
      "---  ------                   --------------  -----   \n",
      " 0   age                      291 non-null    int64   \n",
      " 1   gender                   291 non-null    category\n",
      " 2   department               291 non-null    category\n",
      " 3   academic_year            291 non-null    category\n",
      " 4   current_residence        291 non-null    category\n",
      " 5   study_preference         291 non-null    category\n",
      " 6   gpa                      291 non-null    category\n",
      " 7   sleep_hours              291 non-null    category\n",
      " 8   sport_hours              285 non-null    float64 \n",
      " 9   cigarettes_per_day       288 non-null    float64 \n",
      " 10  coffee_cups              284 non-null    float64 \n",
      " 11  department_satisfaction  291 non-null    int64   \n",
      " 12  development_obstacles    234 non-null    object  \n",
      " 13  job_search_duration      291 non-null    category\n",
      " 14  higher_education         291 non-null    category\n",
      " 15  work_style               290 non-null    category\n",
      " 16  country_preference       291 non-null    category\n",
      " 17  sector_preference        291 non-null    category\n",
      " 18  field_preference         290 non-null    category\n",
      " 19  city_preference          272 non-null    object  \n",
      " 20  salary_expectation       277 non-null    float64 \n",
      "dtypes: category(13), float64(4), int64(2), object(2)\n",
      "memory usage: 24.8+ KB\n"
     ]
    }
   ],
   "source": [
    "df.info()"
   ]
  },
  {
   "cell_type": "code",
   "execution_count": 331,
   "id": "14351bb6-0f36-4ee1-b3e7-6973d704c214",
   "metadata": {},
   "outputs": [
    {
     "data": {
      "text/plain": [
       "False"
      ]
     },
     "execution_count": 331,
     "metadata": {},
     "output_type": "execute_result"
    }
   ],
   "source": [
    "# Check if the dataframe is clean of \\n's\n",
    "check_list = []\n",
    "\n",
    "for i, col in enumerate(df.select_dtypes([\"category\", \"object\"])):\n",
    "    if col == \"development_obstacles\": # devolepment_obstacle is not important\n",
    "        continue\n",
    "    if df[col].str.contains(\"\\n\").any():\n",
    "        check_list.append(True)\n",
    "    else:\n",
    "        check_list.append(False)\n",
    "\n",
    "any(check_list) "
   ]
  },
  {
   "cell_type": "code",
   "execution_count": 332,
   "id": "e8585e3a-ad9d-4ef4-82e4-6832b83d5a44",
   "metadata": {},
   "outputs": [
    {
     "name": "stdout",
     "output_type": "stream",
     "text": [
      "<class 'pandas.core.frame.DataFrame'>\n",
      "RangeIndex: 291 entries, 0 to 290\n",
      "Data columns (total 21 columns):\n",
      " #   Column                   Non-Null Count  Dtype   \n",
      "---  ------                   --------------  -----   \n",
      " 0   age                      291 non-null    int64   \n",
      " 1   gender                   291 non-null    category\n",
      " 2   department               291 non-null    category\n",
      " 3   academic_year            291 non-null    category\n",
      " 4   current_residence        291 non-null    category\n",
      " 5   study_preference         291 non-null    category\n",
      " 6   gpa                      291 non-null    category\n",
      " 7   sleep_hours              291 non-null    category\n",
      " 8   sport_hours              285 non-null    float64 \n",
      " 9   cigarettes_per_day       288 non-null    float64 \n",
      " 10  coffee_cups              284 non-null    float64 \n",
      " 11  department_satisfaction  291 non-null    int64   \n",
      " 12  development_obstacles    234 non-null    object  \n",
      " 13  job_search_duration      291 non-null    category\n",
      " 14  higher_education         291 non-null    category\n",
      " 15  work_style               290 non-null    category\n",
      " 16  country_preference       291 non-null    category\n",
      " 17  sector_preference        291 non-null    category\n",
      " 18  field_preference         290 non-null    category\n",
      " 19  city_preference          272 non-null    object  \n",
      " 20  salary_expectation       277 non-null    float64 \n",
      "dtypes: category(13), float64(4), int64(2), object(2)\n",
      "memory usage: 24.8+ KB\n"
     ]
    }
   ],
   "source": [
    "df.info()"
   ]
  },
  {
   "cell_type": "code",
   "execution_count": 334,
   "id": "859f8068-6733-4da8-9dfa-66718396948b",
   "metadata": {},
   "outputs": [
    {
     "name": "stdout",
     "output_type": "stream",
     "text": [
      "<class 'pandas.core.frame.DataFrame'>\n",
      "Int64Index: 289 entries, 0 to 290\n",
      "Data columns (total 21 columns):\n",
      " #   Column                   Non-Null Count  Dtype   \n",
      "---  ------                   --------------  -----   \n",
      " 0   age                      289 non-null    int64   \n",
      " 1   gender                   289 non-null    category\n",
      " 2   department               289 non-null    category\n",
      " 3   academic_year            289 non-null    category\n",
      " 4   current_residence        289 non-null    category\n",
      " 5   study_preference         289 non-null    category\n",
      " 6   gpa                      289 non-null    category\n",
      " 7   sleep_hours              289 non-null    category\n",
      " 8   sport_hours              289 non-null    float64 \n",
      " 9   cigarettes_per_day       289 non-null    float64 \n",
      " 10  coffee_cups              289 non-null    float64 \n",
      " 11  department_satisfaction  289 non-null    int64   \n",
      " 12  development_obstacles    289 non-null    object  \n",
      " 13  job_search_duration      289 non-null    category\n",
      " 14  higher_education         289 non-null    category\n",
      " 15  work_style               289 non-null    category\n",
      " 16  country_preference       289 non-null    category\n",
      " 17  sector_preference        289 non-null    category\n",
      " 18  field_preference         289 non-null    category\n",
      " 19  city_preference          289 non-null    object  \n",
      " 20  salary_expectation       275 non-null    float64 \n",
      "dtypes: category(13), float64(4), int64(2), object(2)\n",
      "memory usage: 26.8+ KB\n"
     ]
    }
   ],
   "source": [
    "# Fill missing values with blank values.\n",
    "df[\"sport_hours\"].fillna(0, inplace=True)\n",
    "df[\"coffee_cups\"].fillna(0, inplace=True)\n",
    "df[\"cigarettes_per_day\"].fillna(0, inplace=True)\n",
    "df[\"development_obstacles\"].fillna(\"None\", inplace=True)\n",
    "df[\"city_preference\"].fillna(\"None\", inplace=True)\n",
    "\n",
    "# work_style and field_preference contain na values\n",
    "df.dropna(subset=[\"work_style\", \"field_preference\"], inplace=True)\n",
    "df.info()"
   ]
  },
  {
   "cell_type": "code",
   "execution_count": 340,
   "id": "d49df55a-7775-49bd-929b-214abafe8be8",
   "metadata": {},
   "outputs": [],
   "source": [
    "# Fill missing salaries with the department average.\n",
    "\n",
    "# Create a custom function\n",
    "def salary_imputer(row):\n",
    "    if pd.isna(row[\"salary_expectation\"]):\n",
    "        dep = row[\"department\"]\n",
    "        dep_salary_mean = round(df.loc[df[\"department\"] == dep, \"salary_expectation\"].mean(), 2)\n",
    "        row[\"salary_expectation\"] = dep_salary_mean\n",
    "    return row[\"salary_expectation\"]\n",
    "\n",
    "df[\"salary_expectation\"] = df.apply(salary_imputer, axis=1)"
   ]
  },
  {
   "cell_type": "code",
   "execution_count": 341,
   "id": "1973e1ad-ba51-4caa-8db5-c671fbe915a0",
   "metadata": {
    "scrolled": true
   },
   "outputs": [
    {
     "name": "stdout",
     "output_type": "stream",
     "text": [
      "<class 'pandas.core.frame.DataFrame'>\n",
      "Int64Index: 289 entries, 0 to 290\n",
      "Data columns (total 21 columns):\n",
      " #   Column                   Non-Null Count  Dtype   \n",
      "---  ------                   --------------  -----   \n",
      " 0   age                      289 non-null    int64   \n",
      " 1   gender                   289 non-null    category\n",
      " 2   department               289 non-null    category\n",
      " 3   academic_year            289 non-null    category\n",
      " 4   current_residence        289 non-null    category\n",
      " 5   study_preference         289 non-null    category\n",
      " 6   gpa                      289 non-null    category\n",
      " 7   sleep_hours              289 non-null    category\n",
      " 8   sport_hours              289 non-null    float64 \n",
      " 9   cigarettes_per_day       289 non-null    float64 \n",
      " 10  coffee_cups              289 non-null    float64 \n",
      " 11  department_satisfaction  289 non-null    int64   \n",
      " 12  development_obstacles    289 non-null    object  \n",
      " 13  job_search_duration      289 non-null    category\n",
      " 14  higher_education         289 non-null    category\n",
      " 15  work_style               289 non-null    category\n",
      " 16  country_preference       289 non-null    category\n",
      " 17  sector_preference        289 non-null    category\n",
      " 18  field_preference         289 non-null    category\n",
      " 19  city_preference          289 non-null    object  \n",
      " 20  salary_expectation       289 non-null    float64 \n",
      "dtypes: category(13), float64(4), int64(2), object(2)\n",
      "memory usage: 26.8+ KB\n"
     ]
    }
   ],
   "source": [
    "\n",
    "\n",
    "df.info()"
   ]
  },
  {
   "cell_type": "code",
   "execution_count": 342,
   "id": "cfedaf7f-a2f3-457a-9109-12fdbd9be3d0",
   "metadata": {
    "scrolled": true
   },
   "outputs": [
    {
     "data": {
      "text/plain": [
       "Ankara                                                                          106\n",
       "Istanbul                                                                         34\n",
       "None                                                                             19\n",
       "Sirnak                                                                            6\n",
       "Izmir                                                                             6\n",
       "                                                                               ... \n",
       "Antalya-Izmir                                                                     1\n",
       "Dublin                                                                            1\n",
       "I Didnt Decide, Job Is More Important Than The City                               1\n",
       "In Turkey Ankara, But Im Planning To Move To Australia                            1\n",
       "In Turkey, Izmir. In A Different Country, Depends On The Country And The Job      1\n",
       "Name: city_preference, Length: 93, dtype: int64"
      ]
     },
     "execution_count": 342,
     "metadata": {},
     "output_type": "execute_result"
    }
   ],
   "source": [
    "# There are turkish characters. Some answers should be joined too.\n",
    "df[\"city_preference\"] = df[\"city_preference\"].str.title().str.strip().apply(unidecode)\n",
    "df[\"city_preference\"].value_counts()"
   ]
  },
  {
   "cell_type": "code",
   "execution_count": 372,
   "id": "c3c6878c-16f7-470c-9324-32a663a8f53b",
   "metadata": {},
   "outputs": [],
   "source": [
    "df.to_csv(\"Cleaned Data.csv\")"
   ]
  },
  {
   "cell_type": "code",
   "execution_count": 357,
   "id": "95861349-d7ba-4e1f-9897-a2538006648c",
   "metadata": {
    "scrolled": true
   },
   "outputs": [
    {
     "data": {
      "image/png": "[encoded data removed]",
      "text/plain": [
       "<Figure size 1000x600 with 1 Axes>"
      ]
     },
     "metadata": {},
     "output_type": "display_data"
    }
   ],
   "source": [
    "# Check Preferred cities\n",
    "\n",
    "# Count words\n",
    "stop_words = set(stopwords.words('english'))\n",
    "\n",
    "words = ' '.join(df['city_preference'].astype(str)).lower().split()\n",
    "words = [word for word in words if word not in stop_words]\n",
    "\n",
    "word_freq = Counter(words).most_common(11)  # Top 10 Words\n",
    "# word_freq = {k:v for k, v in Counter(words).items() if v >= 2}\n",
    "\n",
    "# Create lists for plotting\n",
    "words, counts = zip(*word_freq)\n",
    "# words = word_freq.keys()\n",
    "# counts = word_freq.values()\n",
    "\n",
    "# Remove stopwords\n",
    "# nltk.download('stopwords') I used nltk for the first time\n",
    "\n",
    "# counts = [count for word, count in zip(words, counts) if word not in stop_words]\n",
    "\n",
    "\n",
    "# Plot\n",
    "plt.figure(figsize=(10, 6))\n",
    "plt.bar(words, counts)\n",
    "plt.xticks(rotation=45)\n",
    "plt.title('Most Common Words')\n",
    "plt.xlabel('Words')\n",
    "plt.ylabel('Frequency')\n",
    "plt.tight_layout()\n",
    "plt.show()"
   ]
  },
  {
   "cell_type": "code",
   "execution_count": 371,
   "id": "e1c92d0d-6cae-4ba0-a286-d0b111385398",
   "metadata": {
    "scrolled": true
   },
   "outputs": [
    {
     "data": {
      "image/png": "[encoded data removed]",
      "text/plain": [
       "<Figure size 1000x500 with 1 Axes>"
      ]
     },
     "metadata": {},
     "output_type": "display_data"
    }
   ],
   "source": [
    "# Word Cloud\n",
    "w = ' '.join(df['city_preference'].astype(str)).lower().split()\n",
    "w = [word for word in w if word not in stop_words]\n",
    "w = \" \".join(w)\n",
    "\n",
    "\n",
    "\n",
    "# Create wordcloud\n",
    "# wordcloud = WordCloud(\n",
    "#     width=800, \n",
    "#     height=400,\n",
    "#     background_color='white'\n",
    "# ).generate(text)\n",
    "\n",
    "wordcloud = WordCloud(\n",
    "    width=800, \n",
    "    height=400,\n",
    "    background_color='white',\n",
    "    max_words=100,\n",
    "    colormap='viridis',\n",
    "    min_font_size=10,\n",
    "    max_font_size=50\n",
    ").generate(w)\n",
    "\n",
    "# Display\n",
    "plt.figure(figsize=(10, 5))\n",
    "plt.imshow(wordcloud)\n",
    "plt.axis('off')\n",
    "plt.show()"
   ]
  },
  {
   "cell_type": "code",
   "execution_count": 359,
   "id": "a3798d7a-5996-4822-a0be-c45cdcf8133c",
   "metadata": {},
   "outputs": [
    {
     "data": {
      "text/plain": [
       "Open to both    147\n",
       "Abroad           73\n",
       "Turkey           50\n",
       "Not sure yet     19\n",
       "Name: country_preference, dtype: int64"
      ]
     },
     "execution_count": 359,
     "metadata": {},
     "output_type": "execute_result"
    }
   ],
   "source": [
    "df[\"country_preference\"].value_counts()"
   ]
  },
  {
   "cell_type": "code",
   "execution_count": null,
   "id": "0e6c2999-9604-46ca-9d2b-29e1c78357a3",
   "metadata": {},
   "outputs": [],
   "source": [
    "df.groupby(\"department\")[\"gender\"].value_counts()"
   ]
  }
 ],
 "metadata": {
  "kernelspec": {
   "display_name": "Python 3 (ipykernel)",
   "language": "python",
   "name": "python3"
  },
  "language_info": {
   "codemirror_mode": {
    "name": "ipython",
    "version": 3
   },
   "file_extension": ".py",
   "mimetype": "text/x-python",
   "name": "python",
   "nbconvert_exporter": "python",
   "pygments_lexer": "ipython3",
   "version": "3.10.4"
  }
 },
 "nbformat": 4,
 "nbformat_minor": 5
}
