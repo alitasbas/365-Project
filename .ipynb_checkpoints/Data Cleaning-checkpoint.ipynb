{
 "cells": [
  {
   "cell_type": "code",
   "execution_count": 2,
   "id": "e54e3a73-3045-446a-b65f-5a4ef2da360d",
   "metadata": {},
   "outputs": [],
   "source": [
    "# Import necessary libraries\n",
    "import numpy as np\n",
    "import pandas as pd\n",
    "import seaborn as sns"
   ]
  },
  {
   "cell_type": "code",
   "execution_count": 3,
   "id": "9452cac4-0147-40ae-a4fc-3c06beb94671",
   "metadata": {},
   "outputs": [],
   "source": [
    "# save dataset as data\n",
    "data = pd.read_csv(\"[Fillout] METU and Career Expectation Survey results.csv\")"
   ]
  },
  {
   "cell_type": "code",
   "execution_count": 4,
   "id": "70100cb4-8319-48a7-a9aa-2beae0432d07",
   "metadata": {},
   "outputs": [],
   "source": [
    "# Rename column headers\n",
    "data.rename(columns = {\n",
    "    \"Submission ID\": \"submission_id\",\n",
    "    \"Last updated\": \"last_updated\",\n",
    "    \"Submission started\": \"submission_started\",\n",
    "    \"Status\": \"status\",\n",
    "    \"Current step\": \"current_step\",\n",
    "    \"How old are you?\": \"age\",\n",
    "    \"What is your gender?\": \"gender\",\n",
    "    \"What is your department?\": \"department\",\n",
    "    \"What is your current academic grade?\": \"academic_year\",\n",
    "    \"Where do you currently live?\": \"current_residence\",\n",
    "    \"Where do you prefer to study the most?\": \"study_preference\",\n",
    "    \"What is your GPA?\": \"gpa\",\n",
    "    \"On average, how many hours of sleep do you get per night?\": \"sleep_hours\",\n",
    "    \"On average, how many hours per week do you spend on sports or physical activities?(Please enter a number)\": \"sport_hours\",\n",
    "    \"How many cigarettes do you smoke on average per day?(If you don't smoke, please put 0)\": \"cigarettes_per_day\",\n",
    "    \"How many cups of coffee do you drink per day?(Please enter a number)\": \"coffee_cups\",\n",
    "    \"Please rate your department satisfaction\": \"department_satisfaction\",\n",
    "    \"What are the biggest obstacles to your academic and/or professional development?\": \"development_obstacles\",\n",
    "    \"How long do you expect it will take you to find a job after graduation?\": \"job_search_duration\",\n",
    "    \"Do you plan to pursue further education after graduation?\": \"higher_education\",\n",
    "    \"What type of work arrangement do you prefer after graduation?\": \"work_style\",\n",
    "    \"Where do you plan to work after graduation?\": \"country_preference\",\n",
    "    \"Do you plan to work in the public sector or the private sector after graduation?\": \"sector_preference\",\n",
    "    \"Do you plan to work in your department’s field or in a different sector after graduation?\": \"field_preference\",\n",
    "    \"In which city would you like to work after graduation?\": \"city_preference\",\n",
    "    \"What is your expected monthly salary after graduation? (in thousands of Turkish Liras, e.g., 30 for 30.000 TRY)\": \"salary_expectation\",\n",
    "    \"Errors\": \"errors\",\n",
    "    \"Url\": \"url\",\n",
    "    \"Network ID\": \"network_id\"\n",
    "}, inplace = True)"
   ]
  },
  {
   "cell_type": "code",
   "execution_count": 5,
   "id": "2e8cae08-6e7e-4d2a-b654-d3470f918fb6",
   "metadata": {},
   "outputs": [],
   "source": [
    "# drop unnecessary columns\n",
    "df = data.drop(['last_updated', 'submission_started', 'status',\n",
    "           'current_step', 'errors', 'url', 'network_id'], axis=1) "
   ]
  },
  {
   "cell_type": "code",
   "execution_count": 6,
   "id": "d1525120-6428-43c9-9db1-b86ba27ab3b8",
   "metadata": {},
   "outputs": [],
   "source": [
    "# Data is ordered from the last survey to the first. Flip the data\n",
    "df = df.sort_index(ascending=False).reset_index(drop=True).drop(\"submission_id\", axis=1)\n",
    "# Now the data is ordered from the first survey to the last."
   ]
  },
  {
   "cell_type": "code",
   "execution_count": 7,
   "id": "808a1423-dbac-45ef-8475-adc1b2df6453",
   "metadata": {},
   "outputs": [
    {
     "data": {
      "text/plain": [
       "department                                 gender           \n",
       "Aerospace Engineering\\n                    Female                2\n",
       "                                           Male\\n                2\n",
       "Chemical Engineering\\n                     Female                1\n",
       "                                           Male\\n                1\n",
       "Civil Engineering                          Male\\n               13\n",
       "                                           Female                4\n",
       "Computer Engineering                       Male\\n                7\n",
       "                                           Female                1\n",
       "Electrical and Electronics Engineering\\n   Male\\n                7\n",
       "                                           Female                4\n",
       "                                           Prefer not to say     1\n",
       "Environmental Engineering                  Female                1\n",
       "Food Engineering\\n                         Female                2\n",
       "Industrial Engineering                     Male\\n               11\n",
       "                                           Female                9\n",
       "Mechanical Engineering\\n                   Male\\n                8\n",
       "Metallurgical and Materials Engineering\\n  Male\\n                8\n",
       "                                           Female                4\n",
       "Mining Engineering                         Male\\n                2\n",
       "                                           Female                1\n",
       "Petroleum and Natural Gas Engineering      Male\\n                1\n",
       "Name: gender, dtype: int64"
      ]
     },
     "execution_count": 7,
     "metadata": {},
     "output_type": "execute_result"
    }
   ],
   "source": [
    "df.groupby(\"department\")[\"gender\"].value_counts()"
   ]
  },
  {
   "cell_type": "code",
   "execution_count": 8,
   "id": "b4e27c27-8757-4fd0-a987-a5674991fc1a",
   "metadata": {},
   "outputs": [
    {
     "data": {
      "text/plain": [
       "Index(['age', 'gender', 'department', 'academic_year', 'current_residence',\n",
       "       'study_preference', 'gpa', 'sleep_hours', 'sport_hours',\n",
       "       'cigarettes_per_day', 'coffee_cups', 'department_satisfaction',\n",
       "       'development_obstacles', 'job_search_duration', 'higher_education',\n",
       "       'work_style', 'country_preference', 'sector_preference',\n",
       "       'field_preference', 'city_preference', 'salary_expectation'],\n",
       "      dtype='object')"
      ]
     },
     "execution_count": 8,
     "metadata": {},
     "output_type": "execute_result"
    }
   ],
   "source": [
    "df.columns"
   ]
  },
  {
   "cell_type": "code",
   "execution_count": 9,
   "id": "e91c2099-f42a-4250-baf6-faaee85843e3",
   "metadata": {},
   "outputs": [
    {
     "name": "stdout",
     "output_type": "stream",
     "text": [
      "<class 'pandas.core.frame.DataFrame'>\n",
      "RangeIndex: 90 entries, 0 to 89\n",
      "Data columns (total 21 columns):\n",
      " #   Column                   Non-Null Count  Dtype  \n",
      "---  ------                   --------------  -----  \n",
      " 0   age                      90 non-null     int64  \n",
      " 1   gender                   90 non-null     object \n",
      " 2   department               90 non-null     object \n",
      " 3   academic_year            90 non-null     object \n",
      " 4   current_residence        90 non-null     object \n",
      " 5   study_preference         90 non-null     object \n",
      " 6   gpa                      90 non-null     object \n",
      " 7   sleep_hours              90 non-null     object \n",
      " 8   sport_hours              88 non-null     float64\n",
      " 9   cigarettes_per_day       89 non-null     float64\n",
      " 10  coffee_cups              87 non-null     float64\n",
      " 11  department_satisfaction  90 non-null     int64  \n",
      " 12  development_obstacles    76 non-null     object \n",
      " 13  job_search_duration      90 non-null     object \n",
      " 14  higher_education         90 non-null     object \n",
      " 15  work_style               90 non-null     object \n",
      " 16  country_preference       90 non-null     object \n",
      " 17  sector_preference        90 non-null     object \n",
      " 18  field_preference         90 non-null     object \n",
      " 19  city_preference          89 non-null     object \n",
      " 20  salary_expectation       86 non-null     float64\n",
      "dtypes: float64(4), int64(2), object(15)\n",
      "memory usage: 14.9+ KB\n"
     ]
    }
   ],
   "source": [
    "# Check the dtypes\n",
    "df.info()"
   ]
  },
  {
   "cell_type": "code",
   "execution_count": 10,
   "id": "f5bf52f8-8890-4b71-ba43-75a14c1936e2",
   "metadata": {
    "scrolled": true
   },
   "outputs": [
    {
     "name": "stdout",
     "output_type": "stream",
     "text": [
      "<class 'pandas.core.frame.DataFrame'>\n",
      "RangeIndex: 90 entries, 0 to 89\n",
      "Data columns (total 21 columns):\n",
      " #   Column                   Non-Null Count  Dtype   \n",
      "---  ------                   --------------  -----   \n",
      " 0   age                      90 non-null     int64   \n",
      " 1   gender                   90 non-null     category\n",
      " 2   department               90 non-null     category\n",
      " 3   academic_year            90 non-null     category\n",
      " 4   current_residence        90 non-null     category\n",
      " 5   study_preference         90 non-null     category\n",
      " 6   gpa                      90 non-null     category\n",
      " 7   sleep_hours              90 non-null     category\n",
      " 8   sport_hours              88 non-null     float64 \n",
      " 9   cigarettes_per_day       89 non-null     float64 \n",
      " 10  coffee_cups              87 non-null     float64 \n",
      " 11  department_satisfaction  90 non-null     int64   \n",
      " 12  development_obstacles    76 non-null     object  \n",
      " 13  job_search_duration      90 non-null     category\n",
      " 14  higher_education         90 non-null     category\n",
      " 15  work_style               90 non-null     category\n",
      " 16  country_preference       90 non-null     category\n",
      " 17  sector_preference        90 non-null     category\n",
      " 18  field_preference         90 non-null     category\n",
      " 19  city_preference          89 non-null     object  \n",
      " 20  salary_expectation       86 non-null     float64 \n",
      "dtypes: category(13), float64(4), int64(2), object(2)\n",
      "memory usage: 9.5+ KB\n"
     ]
    }
   ],
   "source": [
    "# Correct the data types\n",
    "conversion_dic = {\n",
    "    \"gender\": \"category\",\n",
    "    \"department\": \"category\",\n",
    "    \"academic_year\": \"category\",\n",
    "    \"current_residence\": \"category\",\n",
    "    \"study_preference\": \"category\",\n",
    "    \"gpa\": \"category\",\n",
    "    \"sleep_hours\": \"category\",\n",
    "    \"job_search_duration\": \"category\",\n",
    "    \"higher_education\": \"category\",\n",
    "    \"work_style\": \"category\",\n",
    "    \"country_preference\": \"category\",\n",
    "    \"sector_preference\": \"category\",\n",
    "    \"field_preference\": \"category\",\n",
    "}\n",
    "\n",
    "df = df.astype(conversion_dic)\n",
    "df.info()"
   ]
  },
  {
   "cell_type": "code",
   "execution_count": 11,
   "id": "95f6b514-5ba5-4f3d-8a43-4587c938136e",
   "metadata": {},
   "outputs": [
    {
     "data": {
      "text/plain": [
       "{'gender': True,\n",
       " 'department': True,\n",
       " 'academic_year': False,\n",
       " 'current_residence': True,\n",
       " 'study_preference': True,\n",
       " 'gpa': False,\n",
       " 'sleep_hours': True,\n",
       " 'development_obstacles': True,\n",
       " 'job_search_duration': True,\n",
       " 'higher_education': False,\n",
       " 'work_style': False,\n",
       " 'country_preference': True,\n",
       " 'sector_preference': False,\n",
       " 'field_preference': False,\n",
       " 'city_preference': False}"
      ]
     },
     "execution_count": 11,
     "metadata": {},
     "output_type": "execute_result"
    }
   ],
   "source": [
    "anomality_dic = {} \n",
    "for i, col in enumerate(df.select_dtypes([\"category\", \"object\"])):\n",
    "    if df[col].str.contains(\"\\n\").any():\n",
    "        anomality_dic[col] = True\n",
    "    else:\n",
    "        anomality_dic[col] = False\n",
    "\n",
    "anomality_dic"
   ]
  },
  {
   "cell_type": "code",
   "execution_count": 12,
   "id": "9598deea-6d5e-44d6-b813-63a4528ed5d8",
   "metadata": {},
   "outputs": [],
   "source": [
    "for key, value in anomality_dic.items():\n",
    "    if value == True & (key != \"development_obstacles\" | key != \"city_preference\"):\n",
    "        df[key] = df[key].str.rstrip(\"\\n\").astype(\"category\")"
   ]
  },
  {
   "cell_type": "code",
   "execution_count": 13,
   "id": "14351bb6-0f36-4ee1-b3e7-6973d704c214",
   "metadata": {},
   "outputs": [
    {
     "data": {
      "text/plain": [
       "False"
      ]
     },
     "execution_count": 13,
     "metadata": {},
     "output_type": "execute_result"
    }
   ],
   "source": [
    "# Check if the dataframe is clean of \\n's\n",
    "check_list = []\n",
    "\n",
    "for i, col in enumerate(df.select_dtypes([\"category\", \"object\"])):\n",
    "    if col == \"development_obstacles\": # devolepment_obstacle is not important\n",
    "        continue\n",
    "    if df[col].str.contains(\"\\n\").any():\n",
    "        check_list.append(True)\n",
    "    else:\n",
    "        check_list.append(False)\n",
    "\n",
    "any(check_list) "
   ]
  },
  {
   "cell_type": "code",
   "execution_count": 14,
   "id": "c3c6878c-16f7-470c-9324-32a663a8f53b",
   "metadata": {},
   "outputs": [],
   "source": [
    "df.to_csv(\"Cleaned Data.csv\")"
   ]
  },
  {
   "cell_type": "code",
   "execution_count": null,
   "id": "c15ce512-76c5-477e-9913-f9c48a66d22e",
   "metadata": {},
   "outputs": [],
   "source": []
  },
  {
   "cell_type": "code",
   "execution_count": 16,
   "id": "c4095a47-b295-4a87-ad99-5fa406de00d9",
   "metadata": {},
   "outputs": [
    {
     "name": "stdout",
     "output_type": "stream",
     "text": [
      "<class 'pandas.core.frame.DataFrame'>\n",
      "RangeIndex: 90 entries, 0 to 89\n",
      "Data columns (total 21 columns):\n",
      " #   Column                   Non-Null Count  Dtype   \n",
      "---  ------                   --------------  -----   \n",
      " 0   age                      90 non-null     int64   \n",
      " 1   gender                   90 non-null     category\n",
      " 2   department               90 non-null     category\n",
      " 3   academic_year            90 non-null     category\n",
      " 4   current_residence        90 non-null     category\n",
      " 5   study_preference         90 non-null     category\n",
      " 6   gpa                      90 non-null     category\n",
      " 7   sleep_hours              90 non-null     category\n",
      " 8   sport_hours              88 non-null     float64 \n",
      " 9   cigarettes_per_day       89 non-null     float64 \n",
      " 10  coffee_cups              87 non-null     float64 \n",
      " 11  department_satisfaction  90 non-null     int64   \n",
      " 12  development_obstacles    76 non-null     category\n",
      " 13  job_search_duration      90 non-null     category\n",
      " 14  higher_education         90 non-null     category\n",
      " 15  work_style               90 non-null     category\n",
      " 16  country_preference       90 non-null     category\n",
      " 17  sector_preference        90 non-null     category\n",
      " 18  field_preference         90 non-null     category\n",
      " 19  city_preference          89 non-null     object  \n",
      " 20  salary_expectation       86 non-null     float64 \n",
      "dtypes: category(14), float64(4), int64(2), object(1)\n",
      "memory usage: 11.4+ KB\n"
     ]
    }
   ],
   "source": [
    "df.info()"
   ]
  },
  {
   "cell_type": "code",
   "execution_count": 19,
   "id": "cfedaf7f-a2f3-457a-9109-12fdbd9be3d0",
   "metadata": {},
   "outputs": [
    {
     "ename": "AttributeError",
     "evalue": "Can only use .cat accessor with a 'category' dtype",
     "output_type": "error",
     "traceback": [
      "\u001b[1;31m---------------------------------------------------------------------------\u001b[0m",
      "\u001b[1;31mAttributeError\u001b[0m                            Traceback (most recent call last)",
      "Cell \u001b[1;32mIn[19], line 1\u001b[0m\n\u001b[1;32m----> 1\u001b[0m \u001b[43mdf\u001b[49m\u001b[43m[\u001b[49m\u001b[38;5;124;43m\"\u001b[39;49m\u001b[38;5;124;43mcity_preference\u001b[39;49m\u001b[38;5;124;43m\"\u001b[39;49m\u001b[43m]\u001b[49m\u001b[38;5;241;43m.\u001b[39;49m\u001b[43mcat\u001b[49m\u001b[38;5;241m.\u001b[39mcategories\n",
      "File \u001b[1;32m~\\AppData\\Local\\Programs\\Python\\Python310\\lib\\site-packages\\pandas\\core\\generic.py:5902\u001b[0m, in \u001b[0;36mNDFrame.__getattr__\u001b[1;34m(self, name)\u001b[0m\n\u001b[0;32m   5895\u001b[0m \u001b[38;5;28;01mif\u001b[39;00m (\n\u001b[0;32m   5896\u001b[0m     name \u001b[38;5;129;01mnot\u001b[39;00m \u001b[38;5;129;01min\u001b[39;00m \u001b[38;5;28mself\u001b[39m\u001b[38;5;241m.\u001b[39m_internal_names_set\n\u001b[0;32m   5897\u001b[0m     \u001b[38;5;129;01mand\u001b[39;00m name \u001b[38;5;129;01mnot\u001b[39;00m \u001b[38;5;129;01min\u001b[39;00m \u001b[38;5;28mself\u001b[39m\u001b[38;5;241m.\u001b[39m_metadata\n\u001b[0;32m   5898\u001b[0m     \u001b[38;5;129;01mand\u001b[39;00m name \u001b[38;5;129;01mnot\u001b[39;00m \u001b[38;5;129;01min\u001b[39;00m \u001b[38;5;28mself\u001b[39m\u001b[38;5;241m.\u001b[39m_accessors\n\u001b[0;32m   5899\u001b[0m     \u001b[38;5;129;01mand\u001b[39;00m \u001b[38;5;28mself\u001b[39m\u001b[38;5;241m.\u001b[39m_info_axis\u001b[38;5;241m.\u001b[39m_can_hold_identifiers_and_holds_name(name)\n\u001b[0;32m   5900\u001b[0m ):\n\u001b[0;32m   5901\u001b[0m     \u001b[38;5;28;01mreturn\u001b[39;00m \u001b[38;5;28mself\u001b[39m[name]\n\u001b[1;32m-> 5902\u001b[0m \u001b[38;5;28;01mreturn\u001b[39;00m \u001b[38;5;28;43mobject\u001b[39;49m\u001b[38;5;241;43m.\u001b[39;49m\u001b[38;5;21;43m__getattribute__\u001b[39;49m\u001b[43m(\u001b[49m\u001b[38;5;28;43mself\u001b[39;49m\u001b[43m,\u001b[49m\u001b[43m \u001b[49m\u001b[43mname\u001b[49m\u001b[43m)\u001b[49m\n",
      "File \u001b[1;32m~\\AppData\\Local\\Programs\\Python\\Python310\\lib\\site-packages\\pandas\\core\\accessor.py:182\u001b[0m, in \u001b[0;36mCachedAccessor.__get__\u001b[1;34m(self, obj, cls)\u001b[0m\n\u001b[0;32m    179\u001b[0m \u001b[38;5;28;01mif\u001b[39;00m obj \u001b[38;5;129;01mis\u001b[39;00m \u001b[38;5;28;01mNone\u001b[39;00m:\n\u001b[0;32m    180\u001b[0m     \u001b[38;5;66;03m# we're accessing the attribute of the class, i.e., Dataset.geo\u001b[39;00m\n\u001b[0;32m    181\u001b[0m     \u001b[38;5;28;01mreturn\u001b[39;00m \u001b[38;5;28mself\u001b[39m\u001b[38;5;241m.\u001b[39m_accessor\n\u001b[1;32m--> 182\u001b[0m accessor_obj \u001b[38;5;241m=\u001b[39m \u001b[38;5;28;43mself\u001b[39;49m\u001b[38;5;241;43m.\u001b[39;49m\u001b[43m_accessor\u001b[49m\u001b[43m(\u001b[49m\u001b[43mobj\u001b[49m\u001b[43m)\u001b[49m\n\u001b[0;32m    183\u001b[0m \u001b[38;5;66;03m# Replace the property with the accessor object. Inspired by:\u001b[39;00m\n\u001b[0;32m    184\u001b[0m \u001b[38;5;66;03m# https://www.pydanny.com/cached-property.html\u001b[39;00m\n\u001b[0;32m    185\u001b[0m \u001b[38;5;66;03m# We need to use object.__setattr__ because we overwrite __setattr__ on\u001b[39;00m\n\u001b[0;32m    186\u001b[0m \u001b[38;5;66;03m# NDFrame\u001b[39;00m\n\u001b[0;32m    187\u001b[0m \u001b[38;5;28mobject\u001b[39m\u001b[38;5;241m.\u001b[39m\u001b[38;5;21m__setattr__\u001b[39m(obj, \u001b[38;5;28mself\u001b[39m\u001b[38;5;241m.\u001b[39m_name, accessor_obj)\n",
      "File \u001b[1;32m~\\AppData\\Local\\Programs\\Python\\Python310\\lib\\site-packages\\pandas\\core\\arrays\\categorical.py:2849\u001b[0m, in \u001b[0;36mCategoricalAccessor.__init__\u001b[1;34m(self, data)\u001b[0m\n\u001b[0;32m   2848\u001b[0m \u001b[38;5;28;01mdef\u001b[39;00m \u001b[38;5;21m__init__\u001b[39m(\u001b[38;5;28mself\u001b[39m, data) \u001b[38;5;241m-\u001b[39m\u001b[38;5;241m>\u001b[39m \u001b[38;5;28;01mNone\u001b[39;00m:\n\u001b[1;32m-> 2849\u001b[0m     \u001b[38;5;28;43mself\u001b[39;49m\u001b[38;5;241;43m.\u001b[39;49m\u001b[43m_validate\u001b[49m\u001b[43m(\u001b[49m\u001b[43mdata\u001b[49m\u001b[43m)\u001b[49m\n\u001b[0;32m   2850\u001b[0m     \u001b[38;5;28mself\u001b[39m\u001b[38;5;241m.\u001b[39m_parent \u001b[38;5;241m=\u001b[39m data\u001b[38;5;241m.\u001b[39mvalues\n\u001b[0;32m   2851\u001b[0m     \u001b[38;5;28mself\u001b[39m\u001b[38;5;241m.\u001b[39m_index \u001b[38;5;241m=\u001b[39m data\u001b[38;5;241m.\u001b[39mindex\n",
      "File \u001b[1;32m~\\AppData\\Local\\Programs\\Python\\Python310\\lib\\site-packages\\pandas\\core\\arrays\\categorical.py:2858\u001b[0m, in \u001b[0;36mCategoricalAccessor._validate\u001b[1;34m(data)\u001b[0m\n\u001b[0;32m   2855\u001b[0m \u001b[38;5;129m@staticmethod\u001b[39m\n\u001b[0;32m   2856\u001b[0m \u001b[38;5;28;01mdef\u001b[39;00m \u001b[38;5;21m_validate\u001b[39m(data):\n\u001b[0;32m   2857\u001b[0m     \u001b[38;5;28;01mif\u001b[39;00m \u001b[38;5;129;01mnot\u001b[39;00m is_categorical_dtype(data\u001b[38;5;241m.\u001b[39mdtype):\n\u001b[1;32m-> 2858\u001b[0m         \u001b[38;5;28;01mraise\u001b[39;00m \u001b[38;5;167;01mAttributeError\u001b[39;00m(\u001b[38;5;124m\"\u001b[39m\u001b[38;5;124mCan only use .cat accessor with a \u001b[39m\u001b[38;5;124m'\u001b[39m\u001b[38;5;124mcategory\u001b[39m\u001b[38;5;124m'\u001b[39m\u001b[38;5;124m dtype\u001b[39m\u001b[38;5;124m\"\u001b[39m)\n",
      "\u001b[1;31mAttributeError\u001b[0m: Can only use .cat accessor with a 'category' dtype"
     ]
    }
   ],
   "source": [
    "df[\"city_preference\"].cat.categories"
   ]
  }
 ],
 "metadata": {
  "kernelspec": {
   "display_name": "Python 3 (ipykernel)",
   "language": "python",
   "name": "python3"
  },
  "language_info": {
   "codemirror_mode": {
    "name": "ipython",
    "version": 3
   },
   "file_extension": ".py",
   "mimetype": "text/x-python",
   "name": "python",
   "nbconvert_exporter": "python",
   "pygments_lexer": "ipython3",
   "version": "3.10.4"
  }
 },
 "nbformat": 4,
 "nbformat_minor": 5
}
